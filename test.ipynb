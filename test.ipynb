{
 "cells": [
  {
   "cell_type": "code",
   "execution_count": 1,
   "metadata": {},
   "outputs": [],
   "source": [
    "# import tqdm"
   ]
  },
  {
   "cell_type": "code",
   "execution_count": 1,
   "metadata": {},
   "outputs": [],
   "source": [
    "from olxscrape import scrape\n",
    "from olxscrape import item_scrape"
   ]
  },
  {
   "cell_type": "code",
   "execution_count": 2,
   "metadata": {},
   "outputs": [
    {
     "name": "stderr",
     "output_type": "stream",
     "text": [
      "C:\\Users\\umasaiu\\AppData\\Local\\Continuum\\anaconda3\\lib\\site-packages\\bs4\\__init__.py:181: UserWarning: No parser was explicitly specified, so I'm using the best available HTML parser for this system (\"lxml\"). This usually isn't a problem, but if you run this code on another system, or in a different virtual environment, it may use a different parser and behave differently.\n",
      "\n",
      "The code that caused this warning is on line 193 of the file C:\\Users\\umasaiu\\AppData\\Local\\Continuum\\anaconda3\\lib\\runpy.py. To get rid of this warning, change code that looks like this:\n",
      "\n",
      " BeautifulSoup(YOUR_MARKUP})\n",
      "\n",
      "to this:\n",
      "\n",
      " BeautifulSoup(YOUR_MARKUP, \"lxml\")\n",
      "\n",
      "  markup_type=markup_type))\n"
     ]
    }
   ],
   "source": [
    "sdata = scrape.scrape('https://www.olx.in/bengaluru_g4058803/motorcycles_c81',2)"
   ]
  },
  {
   "cell_type": "code",
   "execution_count": 3,
   "metadata": {
    "scrolled": true
   },
   "outputs": [
    {
     "name": "stderr",
     "output_type": "stream",
     "text": [
      "  0%|                                                                                            | 0/5 [00:00<?, ?it/s]C:\\Users\\umasaiu\\AppData\\Local\\Continuum\\anaconda3\\lib\\site-packages\\bs4\\__init__.py:181: UserWarning: No parser was explicitly specified, so I'm using the best available HTML parser for this system (\"lxml\"). This usually isn't a problem, but if you run this code on another system, or in a different virtual environment, it may use a different parser and behave differently.\n",
      "\n",
      "The code that caused this warning is on line 193 of the file C:\\Users\\umasaiu\\AppData\\Local\\Continuum\\anaconda3\\lib\\runpy.py. To get rid of this warning, change code that looks like this:\n",
      "\n",
      " BeautifulSoup(YOUR_MARKUP})\n",
      "\n",
      "to this:\n",
      "\n",
      " BeautifulSoup(YOUR_MARKUP, \"lxml\")\n",
      "\n",
      "  markup_type=markup_type))\n",
      "100%|████████████████████████████████████████████████████████████████████████████████████| 5/5 [00:33<00:00,  6.78s/it]\n"
     ]
    }
   ],
   "source": [
    "items = item_scrape.scrape(sdata.item_links[:5])"
   ]
  },
  {
   "cell_type": "code",
   "execution_count": 4,
   "metadata": {},
   "outputs": [
    {
     "data": {
      "text/plain": [
       "[['Hero',\n",
       "  'Others',\n",
       "  '2014',\n",
       "  '28300',\n",
       "  '55000',\n",
       "  ' I have a new bike so selling old bike ',\n",
       "  'Banashankari Stage 2, Bengaluru, Karnataka',\n",
       "  'Apr 25'],\n",
       " ['Royal Enfield',\n",
       "  'Others',\n",
       "  '2018',\n",
       "  '3700',\n",
       "  '180000',\n",
       "  ' Very good condition and showroom maintenance and another 3 service balance is there   Good mailage coming and 5year insurance is there   Military colour sand colour ',\n",
       "  'Govindaraja Nagar Ward, Bengaluru, Karnataka',\n",
       "  'Apr 6'],\n",
       " ['TVS',\n",
       "  'Others',\n",
       "  '2016',\n",
       "  '48620',\n",
       "  '47000',\n",
       "  ' \"Good Condition bike available at discounted price.  Certified and Inspected by Auto Experts, the bike comes with Exclusive Benefits & Offer:  1. Inspection on 120+ Checkpoints  2. Free 6 Months Warranty on Engine and Gear Box  3. 7 Days Free Repair  4. Hassle-Free Paper Transfer  Share your mobile number to receive full offer details.\" ',\n",
       "  'Kanakapura, Bengaluru, Karnataka',\n",
       "  'Jan 3'],\n",
       " ['TVS',\n",
       "  'Others',\n",
       "  '2018',\n",
       "  '2500',\n",
       "  '225000',\n",
       "  ' Very well maintained no scratch on the vehicle very well riden serviced in the showroom on time very smooth in motion looks beautiful with the led lighting all around front head lamp and tail light ',\n",
       "  'Malleshwaram, Bengaluru, Karnataka',\n",
       "  'Yesterday'],\n",
       " ['Royal Enfield',\n",
       "  'Classic',\n",
       "  '2019',\n",
       "  '5000',\n",
       "  '6000',\n",
       "  ' Rear wheel set royal Enfield classic 350 ',\n",
       "  'Govindraja Nagar, Bengaluru, Karnataka',\n",
       "  'Yesterday']]"
      ]
     },
     "execution_count": 4,
     "metadata": {},
     "output_type": "execute_result"
    }
   ],
   "source": [
    "items.scraped_data"
   ]
  },
  {
   "cell_type": "code",
   "execution_count": null,
   "metadata": {},
   "outputs": [],
   "source": []
  },
  {
   "cell_type": "code",
   "execution_count": 53,
   "metadata": {},
   "outputs": [
    {
     "name": "stdout",
     "output_type": "stream",
     "text": [
      "2\n"
     ]
    }
   ],
   "source": [
    "import random\n",
    "print(random.randint(1,10))"
   ]
  },
  {
   "cell_type": "code",
   "execution_count": null,
   "metadata": {},
   "outputs": [],
   "source": []
  },
  {
   "cell_type": "code",
   "execution_count": null,
   "metadata": {},
   "outputs": [],
   "source": []
  },
  {
   "cell_type": "code",
   "execution_count": null,
   "metadata": {},
   "outputs": [],
   "source": []
  },
  {
   "cell_type": "code",
   "execution_count": null,
   "metadata": {},
   "outputs": [],
   "source": []
  },
  {
   "cell_type": "code",
   "execution_count": null,
   "metadata": {},
   "outputs": [],
   "source": []
  },
  {
   "cell_type": "code",
   "execution_count": null,
   "metadata": {},
   "outputs": [],
   "source": []
  },
  {
   "cell_type": "code",
   "execution_count": null,
   "metadata": {},
   "outputs": [],
   "source": []
  },
  {
   "cell_type": "code",
   "execution_count": null,
   "metadata": {},
   "outputs": [],
   "source": []
  },
  {
   "cell_type": "code",
   "execution_count": null,
   "metadata": {},
   "outputs": [],
   "source": []
  },
  {
   "cell_type": "code",
   "execution_count": null,
   "metadata": {},
   "outputs": [],
   "source": []
  },
  {
   "cell_type": "code",
   "execution_count": null,
   "metadata": {},
   "outputs": [],
   "source": []
  },
  {
   "cell_type": "code",
   "execution_count": null,
   "metadata": {},
   "outputs": [],
   "source": []
  },
  {
   "cell_type": "code",
   "execution_count": null,
   "metadata": {},
   "outputs": [],
   "source": []
  },
  {
   "cell_type": "code",
   "execution_count": null,
   "metadata": {},
   "outputs": [],
   "source": []
  },
  {
   "cell_type": "code",
   "execution_count": null,
   "metadata": {},
   "outputs": [],
   "source": []
  },
  {
   "cell_type": "code",
   "execution_count": null,
   "metadata": {},
   "outputs": [],
   "source": []
  },
  {
   "cell_type": "code",
   "execution_count": null,
   "metadata": {},
   "outputs": [],
   "source": []
  },
  {
   "cell_type": "code",
   "execution_count": null,
   "metadata": {},
   "outputs": [],
   "source": []
  },
  {
   "cell_type": "code",
   "execution_count": null,
   "metadata": {},
   "outputs": [],
   "source": []
  },
  {
   "cell_type": "code",
   "execution_count": null,
   "metadata": {},
   "outputs": [],
   "source": []
  },
  {
   "cell_type": "code",
   "execution_count": 4,
   "metadata": {},
   "outputs": [],
   "source": [
    "import pandas as pd\n",
    "import requests\n",
    "from bs4 import BeautifulSoup"
   ]
  },
  {
   "cell_type": "code",
   "execution_count": 43,
   "metadata": {},
   "outputs": [],
   "source": [
    "t = requests.get('https://www.olx.in/item/due-to-emergency-am-going-to-sell-iid-1508351122')"
   ]
  },
  {
   "cell_type": "code",
   "execution_count": 44,
   "metadata": {},
   "outputs": [
    {
     "name": "stderr",
     "output_type": "stream",
     "text": [
      "C:\\Users\\umasaiu\\AppData\\Local\\Continuum\\anaconda3\\lib\\site-packages\\bs4\\__init__.py:181: UserWarning: No parser was explicitly specified, so I'm using the best available HTML parser for this system (\"lxml\"). This usually isn't a problem, but if you run this code on another system, or in a different virtual environment, it may use a different parser and behave differently.\n",
      "\n",
      "The code that caused this warning is on line 193 of the file C:\\Users\\umasaiu\\AppData\\Local\\Continuum\\anaconda3\\lib\\runpy.py. To get rid of this warning, change code that looks like this:\n",
      "\n",
      " BeautifulSoup(YOUR_MARKUP})\n",
      "\n",
      "to this:\n",
      "\n",
      " BeautifulSoup(YOUR_MARKUP, \"lxml\")\n",
      "\n",
      "  markup_type=markup_type))\n"
     ]
    }
   ],
   "source": [
    "\n",
    "soup = BeautifulSoup(t.text)"
   ]
  },
  {
   "cell_type": "code",
   "execution_count": 46,
   "metadata": {},
   "outputs": [],
   "source": [
    "brand = soup.find(\"span\", {\"data-aut-id\" : \"value_make\"}).text\n",
    "model = soup.find(\"span\", {\"data-aut-id\" : \"value_model\"}).text\n",
    "year = soup.find(\"span\", {\"data-aut-id\" : \"value_year\"}).text\n",
    "kms = soup.find(\"span\", {\"data-aut-id\" : \"value_mileage\"}).text\n",
    "description = soup.find(\"div\", {\"data-aut-id\" : \"itemDescriptionContent\"}).text\n",
    "location = soup.find(\"div\", {\"data-aut-id\" : \"itemLocation\"}).text \n",
    "date = soup.find(\"div\", {\"data-aut-id\" : \"itemCreationDate\"}).text\n",
    "price = soup.find(\"span\", {\"data-aut-id\" : \"itemPrice\"}).text"
   ]
  },
  {
   "cell_type": "code",
   "execution_count": 47,
   "metadata": {},
   "outputs": [
    {
     "data": {
      "text/plain": [
       "'₹ 1,50,000'"
      ]
     },
     "execution_count": 47,
     "metadata": {},
     "output_type": "execute_result"
    }
   ],
   "source": [
    "price"
   ]
  },
  {
   "cell_type": "code",
   "execution_count": 48,
   "metadata": {},
   "outputs": [
    {
     "data": {
      "text/plain": [
       "'150000'"
      ]
     },
     "execution_count": 48,
     "metadata": {},
     "output_type": "execute_result"
    }
   ],
   "source": [
    "import re\n",
    "re.sub(\"\\D\", \"\", price)"
   ]
  },
  {
   "cell_type": "code",
   "execution_count": 21,
   "metadata": {},
   "outputs": [
    {
     "data": {
      "text/plain": [
       "'Apr 7'"
      ]
     },
     "execution_count": 21,
     "metadata": {},
     "output_type": "execute_result"
    }
   ],
   "source": [
    "date"
   ]
  },
  {
   "cell_type": "code",
   "execution_count": null,
   "metadata": {},
   "outputs": [],
   "source": []
  },
  {
   "cell_type": "code",
   "execution_count": null,
   "metadata": {},
   "outputs": [],
   "source": []
  },
  {
   "cell_type": "code",
   "execution_count": null,
   "metadata": {},
   "outputs": [],
   "source": []
  },
  {
   "cell_type": "code",
   "execution_count": 50,
   "metadata": {
    "collapsed": true
   },
   "outputs": [
    {
     "name": "stderr",
     "output_type": "stream",
     "text": [
      "C:\\Users\\umasaiu\\AppData\\Local\\Continuum\\anaconda3\\lib\\site-packages\\bs4\\__init__.py:181: UserWarning: No parser was explicitly specified, so I'm using the best available HTML parser for this system (\"lxml\"). This usually isn't a problem, but if you run this code on another system, or in a different virtual environment, it may use a different parser and behave differently.\n",
      "\n",
      "The code that caused this warning is on line 193 of the file C:\\Users\\umasaiu\\AppData\\Local\\Continuum\\anaconda3\\lib\\runpy.py. To get rid of this warning, change code that looks like this:\n",
      "\n",
      " BeautifulSoup(YOUR_MARKUP})\n",
      "\n",
      "to this:\n",
      "\n",
      " BeautifulSoup(YOUR_MARKUP, \"lxml\")\n",
      "\n",
      "  markup_type=markup_type))\n"
     ]
    },
    {
     "name": "stdout",
     "output_type": "stream",
     "text": [
      "0 is not available\n",
      "1 is done\n",
      "2 is done\n",
      "3 is done\n",
      "4 is done\n",
      "5 is done\n",
      "6 is done\n",
      "7 is done\n",
      "8 is done\n",
      "9 is done\n",
      "10 is done\n",
      "11 is done\n",
      "12 is done\n",
      "13 is done\n",
      "14 is done\n",
      "15 is done\n",
      "16 is done\n",
      "17 is done\n",
      "18 is done\n",
      "19 is done\n",
      "20 is done\n",
      "21 is done\n",
      "22 is done\n",
      "23 is done\n",
      "24 is done\n",
      "25 is done\n",
      "26 is done\n",
      "27 is done\n",
      "28 is done\n",
      "29 is done\n",
      "30 is done\n",
      "31 is done\n",
      "32 is done\n",
      "33 is done\n",
      "34 is done\n",
      "35 is not available\n",
      "36 is done\n",
      "37 is done\n",
      "38 is done\n",
      "39 is done\n",
      "40 is done\n",
      "41 is done\n",
      "42 is done\n",
      "43 is done\n",
      "44 is done\n",
      "45 is done\n",
      "46 is done\n",
      "47 is done\n",
      "48 is done\n",
      "49 is done\n",
      "50 is done\n",
      "51 is done\n",
      "52 is done\n",
      "53 is done\n",
      "54 is done\n",
      "55 is done\n",
      "56 is done\n",
      "57 is done\n",
      "58 is done\n",
      "59 is done\n",
      "60 is done\n",
      "61 is done\n",
      "62 is done\n",
      "63 is done\n",
      "64 is done\n",
      "65 is done\n",
      "66 is done\n",
      "67 is done\n",
      "68 is done\n",
      "69 is done\n",
      "70 is done\n",
      "71 is done\n",
      "72 is not available\n",
      "73 is done\n",
      "74 is not available\n",
      "75 is done\n",
      "76 is done\n",
      "77 is done\n",
      "78 is done\n",
      "79 is not available\n",
      "80 is done\n",
      "81 is done\n",
      "82 is done\n",
      "83 is not available\n",
      "84 is done\n",
      "85 is done\n",
      "86 is not available\n",
      "87 is done\n",
      "88 is done\n",
      "89 is done\n",
      "90 is done\n",
      "91 is done\n",
      "92 is done\n",
      "93 is done\n",
      "94 is done\n",
      "95 is done\n",
      "96 is done\n",
      "97 is done\n",
      "98 is done\n",
      "99 is done\n",
      "100 is done\n",
      "101 is done\n",
      "102 is done\n",
      "103 is done\n",
      "104 is done\n",
      "105 is done\n",
      "106 is done\n",
      "107 is done\n",
      "108 is done\n",
      "109 is done\n",
      "110 is done\n",
      "111 is done\n",
      "112 is done\n",
      "113 is done\n",
      "114 is done\n",
      "115 is done\n",
      "116 is not available\n",
      "117 is done\n",
      "118 is done\n",
      "119 is done\n",
      "120 is done\n",
      "121 is done\n",
      "122 is done\n",
      "123 is done\n",
      "124 is done\n",
      "125 is done\n",
      "126 is done\n",
      "127 is done\n",
      "128 is done\n",
      "129 is done\n",
      "130 is done\n",
      "131 is not available\n",
      "132 is done\n",
      "133 is done\n",
      "134 is done\n",
      "135 is done\n",
      "136 is done\n",
      "137 is done\n",
      "138 is done\n",
      "139 is done\n",
      "140 is not available\n",
      "141 is done\n",
      "142 is done\n",
      "143 is done\n",
      "144 is done\n",
      "145 is done\n",
      "146 is done\n",
      "147 is done\n",
      "148 is done\n",
      "149 is done\n",
      "150 is done\n",
      "151 is done\n",
      "152 is done\n",
      "153 is done\n",
      "154 is done\n",
      "155 is done\n",
      "156 is done\n",
      "157 is done\n",
      "158 is done\n",
      "159 is done\n",
      "160 is done\n",
      "161 is done\n",
      "162 is done\n",
      "163 is done\n",
      "164 is done\n",
      "165 is done\n",
      "166 is done\n",
      "167 is done\n",
      "168 is not available\n",
      "169 is done\n",
      "170 is done\n",
      "171 is done\n",
      "172 is done\n",
      "173 is done\n",
      "174 is done\n",
      "175 is done\n",
      "176 is not available\n",
      "177 is done\n",
      "178 is done\n",
      "179 is done\n",
      "180 is done\n",
      "181 is done\n",
      "182 is not available\n",
      "183 is done\n",
      "184 is done\n",
      "185 is done\n",
      "186 is done\n",
      "187 is done\n",
      "188 is done\n",
      "189 is done\n",
      "190 is done\n",
      "191 is done\n",
      "192 is done\n",
      "193 is not available\n",
      "194 is not available\n",
      "195 is done\n",
      "196 is done\n",
      "197 is done\n",
      "198 is done\n",
      "199 is done\n",
      "200 is done\n",
      "201 is done\n",
      "202 is done\n",
      "203 is done\n",
      "204 is not available\n",
      "205 is done\n",
      "206 is done\n",
      "207 is not available\n",
      "208 is done\n",
      "209 is done\n",
      "210 is done\n",
      "211 is done\n",
      "212 is not available\n",
      "213 is done\n",
      "214 is done\n",
      "215 is done\n",
      "216 is done\n",
      "217 is done\n",
      "218 is done\n",
      "219 is done\n",
      "220 is done\n",
      "221 is done\n",
      "222 is done\n",
      "223 is done\n",
      "224 is done\n",
      "225 is done\n",
      "226 is done\n",
      "227 is done\n",
      "228 is done\n",
      "229 is not available\n",
      "230 is done\n",
      "231 is done\n",
      "232 is done\n",
      "233 is done\n",
      "234 is done\n",
      "235 is done\n",
      "236 is done\n",
      "237 is done\n",
      "238 is done\n",
      "239 is done\n",
      "240 is done\n",
      "241 is done\n",
      "242 is done\n",
      "243 is not available\n",
      "244 is not available\n",
      "245 is done\n",
      "246 is not available\n",
      "247 is done\n",
      "248 is done\n",
      "249 is done\n",
      "250 is done\n",
      "251 is done\n",
      "252 is not available\n",
      "253 is done\n",
      "254 is not available\n",
      "255 is done\n",
      "256 is done\n",
      "257 is done\n",
      "258 is done\n",
      "259 is done\n",
      "260 is done\n",
      "261 is done\n",
      "262 is done\n",
      "263 is done\n",
      "264 is done\n",
      "265 is done\n",
      "266 is done\n",
      "267 is done\n",
      "268 is done\n",
      "269 is done\n",
      "270 is done\n",
      "271 is done\n",
      "272 is done\n",
      "273 is not available\n",
      "274 is done\n",
      "275 is done\n",
      "276 is done\n",
      "277 is done\n",
      "278 is done\n",
      "279 is done\n",
      "280 is done\n",
      "281 is done\n",
      "282 is done\n",
      "283 is done\n",
      "284 is done\n",
      "285 is done\n",
      "286 is done\n",
      "287 is done\n",
      "288 is done\n",
      "289 is done\n",
      "290 is done\n",
      "291 is done\n",
      "292 is done\n",
      "293 is done\n",
      "294 is done\n",
      "295 is done\n",
      "296 is done\n",
      "297 is done\n",
      "298 is done\n",
      "299 is done\n",
      "300 is done\n",
      "301 is done\n",
      "302 is done\n",
      "303 is done\n",
      "304 is not available\n",
      "305 is done\n",
      "306 is done\n",
      "307 is done\n",
      "308 is done\n",
      "309 is not available\n",
      "310 is done\n",
      "311 is done\n",
      "312 is done\n",
      "313 is done\n",
      "314 is done\n",
      "315 is done\n",
      "316 is done\n",
      "317 is done\n",
      "318 is done\n",
      "319 is done\n",
      "320 is done\n",
      "321 is done\n",
      "322 is done\n",
      "323 is done\n",
      "324 is done\n",
      "325 is done\n",
      "326 is done\n",
      "327 is done\n",
      "328 is done\n",
      "329 is done\n",
      "330 is not available\n",
      "331 is done\n",
      "332 is done\n",
      "333 is done\n",
      "334 is done\n",
      "335 is done\n",
      "336 is done\n",
      "337 is done\n",
      "338 is done\n",
      "339 is done\n",
      "340 is not available\n",
      "341 is not available\n",
      "342 is done\n",
      "343 is done\n",
      "344 is done\n",
      "345 is done\n",
      "346 is done\n",
      "347 is done\n",
      "348 is done\n",
      "349 is done\n",
      "350 is done\n",
      "351 is done\n",
      "352 is done\n",
      "353 is done\n",
      "354 is done\n",
      "355 is done\n",
      "356 is done\n",
      "357 is done\n",
      "358 is not available\n",
      "359 is done\n"
     ]
    }
   ],
   "source": [
    "import time\n",
    "import re\n",
    "\n",
    "\n",
    "scraped_data=[]\n",
    "for i,val in enumerate(sdata.item_links):\n",
    "    time.sleep(3)\n",
    "    url = 'https://www.olx.in' + val\n",
    "    t = requests.get(url)\n",
    "    soup = BeautifulSoup(t.text)\n",
    "    try:\n",
    "        brand = soup.find(\"span\", {\"data-aut-id\" : \"value_make\"}).text\n",
    "        model = soup.find(\"span\", {\"data-aut-id\" : \"value_model\"}).text\n",
    "        year = soup.find(\"span\", {\"data-aut-id\" : \"value_year\"}).text\n",
    "        kms = soup.find(\"span\", {\"data-aut-id\" : \"value_mileage\"}).text\n",
    "        description = soup.find(\"div\", {\"data-aut-id\" : \"itemDescriptionContent\"}).text\n",
    "        location = soup.find(\"div\", {\"data-aut-id\" : \"itemLocation\"}).text\n",
    "        date = soup.find(\"div\", {\"data-aut-id\" : \"itemCreationDate\"}).text\n",
    "        price = soup.find(\"span\", {\"data-aut-id\" : \"itemPrice\"}).text\n",
    "        scraped_data.append([brand,model,year,re.sub(\"\\D\", \"\", kms),re.sub(\"\\D\", \"\", price),description,location,date])\n",
    "        print('{} is done'.format(i))\n",
    "    except:\n",
    "        print('{} is not available'.format(i))"
   ]
  },
  {
   "cell_type": "code",
   "execution_count": 51,
   "metadata": {},
   "outputs": [
    {
     "data": {
      "text/plain": [
       "329"
      ]
     },
     "execution_count": 51,
     "metadata": {},
     "output_type": "execute_result"
    }
   ],
   "source": [
    "len(scraped_data)"
   ]
  },
  {
   "cell_type": "code",
   "execution_count": 38,
   "metadata": {},
   "outputs": [],
   "source": [
    "# for i,val in enumerate(scraped_data):\n",
    "#     scraped_data[i] = [x.decode('utf-8') for x in scraped_data[i]]"
   ]
  },
  {
   "cell_type": "code",
   "execution_count": 52,
   "metadata": {},
   "outputs": [],
   "source": [
    "import csv\n",
    "with open('data/ktm_scraped_data.csv', 'w',encoding='UTF-8') as myfile:\n",
    "    wr = csv.writer(myfile, quoting=csv.QUOTE_ALL)\n",
    "    wr.writerows(scraped_data)"
   ]
  },
  {
   "cell_type": "code",
   "execution_count": null,
   "metadata": {},
   "outputs": [],
   "source": [
    "#analysis"
   ]
  },
  {
   "cell_type": "code",
   "execution_count": null,
   "metadata": {},
   "outputs": [],
   "source": []
  },
  {
   "cell_type": "code",
   "execution_count": null,
   "metadata": {},
   "outputs": [],
   "source": []
  },
  {
   "cell_type": "code",
   "execution_count": null,
   "metadata": {},
   "outputs": [],
   "source": []
  },
  {
   "cell_type": "code",
   "execution_count": 19,
   "metadata": {},
   "outputs": [],
   "source": [
    "ldata = [brand,model,year,kms,description,location]"
   ]
  },
  {
   "cell_type": "code",
   "execution_count": 20,
   "metadata": {},
   "outputs": [
    {
     "data": {
      "text/plain": [
       "['TVS',\n",
       " 'Apache RTR',\n",
       " '2013',\n",
       " '49,000 km',\n",
       " ' Tvs Apache RTR ',\n",
       " 'Mangammanapalya, Bengaluru, Karnataka']"
      ]
     },
     "execution_count": 20,
     "metadata": {},
     "output_type": "execute_result"
    }
   ],
   "source": [
    "ldata"
   ]
  },
  {
   "cell_type": "code",
   "execution_count": 1,
   "metadata": {
    "collapsed": true
   },
   "outputs": [
    {
     "ename": "WebDriverException",
     "evalue": "Message: chrome not reachable\n  (Session info: chrome=74.0.3729.131)\n  (Driver info: chromedriver=72.0.3626.69 (3c16f8a135abc0d4da2dff33804db79b849a7c38),platform=Windows NT 10.0.17134 x86_64)\n",
     "output_type": "error",
     "traceback": [
      "\u001b[1;31m---------------------------------------------------------------------------\u001b[0m",
      "\u001b[1;31mWebDriverException\u001b[0m                        Traceback (most recent call last)",
      "\u001b[1;32m<ipython-input-1-93c1f7875cc1>\u001b[0m in \u001b[0;36m<module>\u001b[1;34m()\u001b[0m\n\u001b[0;32m     10\u001b[0m \u001b[0mi\u001b[0m \u001b[1;33m=\u001b[0m \u001b[1;36m0\u001b[0m\u001b[1;33m\u001b[0m\u001b[0m\n\u001b[0;32m     11\u001b[0m \u001b[1;32mwhile\u001b[0m \u001b[0mi\u001b[0m \u001b[1;33m<\u001b[0m \u001b[1;36m5\u001b[0m\u001b[1;33m:\u001b[0m\u001b[1;33m\u001b[0m\u001b[0m\n\u001b[1;32m---> 12\u001b[1;33m     \u001b[0mdriver\u001b[0m\u001b[1;33m.\u001b[0m\u001b[0mfind_element\u001b[0m\u001b[1;33m(\u001b[0m\u001b[0mBy\u001b[0m\u001b[1;33m.\u001b[0m\u001b[0mXPATH\u001b[0m\u001b[1;33m,\u001b[0m\u001b[1;34m\"//button[@data-aut-id='btnLoadMore']\"\u001b[0m\u001b[1;33m)\u001b[0m\u001b[1;33m.\u001b[0m\u001b[0mclick\u001b[0m\u001b[1;33m(\u001b[0m\u001b[1;33m)\u001b[0m\u001b[1;33m\u001b[0m\u001b[0m\n\u001b[0m\u001b[0;32m     13\u001b[0m \u001b[1;33m\u001b[0m\u001b[0m\n\u001b[0;32m     14\u001b[0m     \u001b[0msleep\u001b[0m\u001b[1;33m(\u001b[0m\u001b[1;36m3\u001b[0m\u001b[1;33m)\u001b[0m\u001b[1;33m\u001b[0m\u001b[0m\n",
      "\u001b[1;32m~\\AppData\\Local\\Continuum\\anaconda3\\lib\\site-packages\\selenium\\webdriver\\remote\\webdriver.py\u001b[0m in \u001b[0;36mfind_element\u001b[1;34m(self, by, value)\u001b[0m\n\u001b[0;32m    976\u001b[0m         return self.execute(Command.FIND_ELEMENT, {\n\u001b[0;32m    977\u001b[0m             \u001b[1;34m'using'\u001b[0m\u001b[1;33m:\u001b[0m \u001b[0mby\u001b[0m\u001b[1;33m,\u001b[0m\u001b[1;33m\u001b[0m\u001b[0m\n\u001b[1;32m--> 978\u001b[1;33m             'value': value})['value']\n\u001b[0m\u001b[0;32m    979\u001b[0m \u001b[1;33m\u001b[0m\u001b[0m\n\u001b[0;32m    980\u001b[0m     \u001b[1;32mdef\u001b[0m \u001b[0mfind_elements\u001b[0m\u001b[1;33m(\u001b[0m\u001b[0mself\u001b[0m\u001b[1;33m,\u001b[0m \u001b[0mby\u001b[0m\u001b[1;33m=\u001b[0m\u001b[0mBy\u001b[0m\u001b[1;33m.\u001b[0m\u001b[0mID\u001b[0m\u001b[1;33m,\u001b[0m \u001b[0mvalue\u001b[0m\u001b[1;33m=\u001b[0m\u001b[1;32mNone\u001b[0m\u001b[1;33m)\u001b[0m\u001b[1;33m:\u001b[0m\u001b[1;33m\u001b[0m\u001b[0m\n",
      "\u001b[1;32m~\\AppData\\Local\\Continuum\\anaconda3\\lib\\site-packages\\selenium\\webdriver\\remote\\webdriver.py\u001b[0m in \u001b[0;36mexecute\u001b[1;34m(self, driver_command, params)\u001b[0m\n\u001b[0;32m    319\u001b[0m         \u001b[0mresponse\u001b[0m \u001b[1;33m=\u001b[0m \u001b[0mself\u001b[0m\u001b[1;33m.\u001b[0m\u001b[0mcommand_executor\u001b[0m\u001b[1;33m.\u001b[0m\u001b[0mexecute\u001b[0m\u001b[1;33m(\u001b[0m\u001b[0mdriver_command\u001b[0m\u001b[1;33m,\u001b[0m \u001b[0mparams\u001b[0m\u001b[1;33m)\u001b[0m\u001b[1;33m\u001b[0m\u001b[0m\n\u001b[0;32m    320\u001b[0m         \u001b[1;32mif\u001b[0m \u001b[0mresponse\u001b[0m\u001b[1;33m:\u001b[0m\u001b[1;33m\u001b[0m\u001b[0m\n\u001b[1;32m--> 321\u001b[1;33m             \u001b[0mself\u001b[0m\u001b[1;33m.\u001b[0m\u001b[0merror_handler\u001b[0m\u001b[1;33m.\u001b[0m\u001b[0mcheck_response\u001b[0m\u001b[1;33m(\u001b[0m\u001b[0mresponse\u001b[0m\u001b[1;33m)\u001b[0m\u001b[1;33m\u001b[0m\u001b[0m\n\u001b[0m\u001b[0;32m    322\u001b[0m             response['value'] = self._unwrap_value(\n\u001b[0;32m    323\u001b[0m                 response.get('value', None))\n",
      "\u001b[1;32m~\\AppData\\Local\\Continuum\\anaconda3\\lib\\site-packages\\selenium\\webdriver\\remote\\errorhandler.py\u001b[0m in \u001b[0;36mcheck_response\u001b[1;34m(self, response)\u001b[0m\n\u001b[0;32m    240\u001b[0m                 \u001b[0malert_text\u001b[0m \u001b[1;33m=\u001b[0m \u001b[0mvalue\u001b[0m\u001b[1;33m[\u001b[0m\u001b[1;34m'alert'\u001b[0m\u001b[1;33m]\u001b[0m\u001b[1;33m.\u001b[0m\u001b[0mget\u001b[0m\u001b[1;33m(\u001b[0m\u001b[1;34m'text'\u001b[0m\u001b[1;33m)\u001b[0m\u001b[1;33m\u001b[0m\u001b[0m\n\u001b[0;32m    241\u001b[0m             \u001b[1;32mraise\u001b[0m \u001b[0mexception_class\u001b[0m\u001b[1;33m(\u001b[0m\u001b[0mmessage\u001b[0m\u001b[1;33m,\u001b[0m \u001b[0mscreen\u001b[0m\u001b[1;33m,\u001b[0m \u001b[0mstacktrace\u001b[0m\u001b[1;33m,\u001b[0m \u001b[0malert_text\u001b[0m\u001b[1;33m)\u001b[0m\u001b[1;33m\u001b[0m\u001b[0m\n\u001b[1;32m--> 242\u001b[1;33m         \u001b[1;32mraise\u001b[0m \u001b[0mexception_class\u001b[0m\u001b[1;33m(\u001b[0m\u001b[0mmessage\u001b[0m\u001b[1;33m,\u001b[0m \u001b[0mscreen\u001b[0m\u001b[1;33m,\u001b[0m \u001b[0mstacktrace\u001b[0m\u001b[1;33m)\u001b[0m\u001b[1;33m\u001b[0m\u001b[0m\n\u001b[0m\u001b[0;32m    243\u001b[0m \u001b[1;33m\u001b[0m\u001b[0m\n\u001b[0;32m    244\u001b[0m     \u001b[1;32mdef\u001b[0m \u001b[0m_value_or_default\u001b[0m\u001b[1;33m(\u001b[0m\u001b[0mself\u001b[0m\u001b[1;33m,\u001b[0m \u001b[0mobj\u001b[0m\u001b[1;33m,\u001b[0m \u001b[0mkey\u001b[0m\u001b[1;33m,\u001b[0m \u001b[0mdefault\u001b[0m\u001b[1;33m)\u001b[0m\u001b[1;33m:\u001b[0m\u001b[1;33m\u001b[0m\u001b[0m\n",
      "\u001b[1;31mWebDriverException\u001b[0m: Message: chrome not reachable\n  (Session info: chrome=74.0.3729.131)\n  (Driver info: chromedriver=72.0.3626.69 (3c16f8a135abc0d4da2dff33804db79b849a7c38),platform=Windows NT 10.0.17134 x86_64)\n"
     ]
    }
   ],
   "source": [
    "import pandas as pd\n",
    "import requests\n",
    "from bs4 import BeautifulSoup\n",
    "from selenium import webdriver \n",
    "from time import sleep \n",
    "from selenium.webdriver.common.by import By\n",
    "driver = webdriver.Chrome() \n",
    "driver.get('https://www.olx.in/bengaluru_g4058803/bikes_c2198/q-ktm')\n",
    "\n",
    "i = 0\n",
    "while i < 5:\n",
    "    driver.find_element(By.XPATH,\"//button[@data-aut-id='btnLoadMore']\").click()\n",
    "                                  \n",
    "    sleep(3)\n",
    "    i = i+1\n",
    "#print(driver)\n",
    "soup = BeautifulSoup(driver.page_source)\n",
    "t = soup.findAll('li')\n",
    "links = []\n",
    "for i in t:\n",
    "    if i.a and i.span:\n",
    "        try:\n",
    "            links.append(i.a['href'])\n",
    "        except:\n",
    "            pass"
   ]
  },
  {
   "cell_type": "code",
   "execution_count": 96,
   "metadata": {},
   "outputs": [],
   "source": [
    "updated_links = []\n",
    "for i,val in enumerate(links):\n",
    "    if val.split('/')[1] == 'item':\n",
    "        updated_links.append(val)"
   ]
  },
  {
   "cell_type": "code",
   "execution_count": 100,
   "metadata": {},
   "outputs": [],
   "source": [
    "import csv\n",
    "\n",
    "with open('all_bike _links.csv', 'w') as myfile:\n",
    "    wr = csv.writer(myfile, quoting=csv.QUOTE_ALL)\n",
    "    wr.writerow(updated_links)"
   ]
  },
  {
   "cell_type": "code",
   "execution_count": 98,
   "metadata": {},
   "outputs": [
    {
     "data": {
      "text/plain": [
       "1000"
      ]
     },
     "execution_count": 98,
     "metadata": {},
     "output_type": "execute_result"
    }
   ],
   "source": [
    "len(updated_links)"
   ]
  },
  {
   "cell_type": "code",
   "execution_count": 91,
   "metadata": {},
   "outputs": [
    {
     "data": {
      "text/plain": [
       "'item'"
      ]
     },
     "execution_count": 91,
     "metadata": {},
     "output_type": "execute_result"
    }
   ],
   "source": [
    "links[56].split('/')[1]"
   ]
  },
  {
   "cell_type": "code",
   "execution_count": null,
   "metadata": {},
   "outputs": [],
   "source": []
  },
  {
   "cell_type": "code",
   "execution_count": null,
   "metadata": {},
   "outputs": [],
   "source": []
  },
  {
   "cell_type": "code",
   "execution_count": 57,
   "metadata": {},
   "outputs": [
    {
     "data": {
      "text/plain": [
       "'/item/7204748452-iid-1513542319'"
      ]
     },
     "execution_count": 57,
     "metadata": {},
     "output_type": "execute_result"
    }
   ],
   "source": [
    "t.a['href']"
   ]
  },
  {
   "cell_type": "code",
   "execution_count": 58,
   "metadata": {},
   "outputs": [
    {
     "data": {
      "text/plain": [
       "[<span class=\"_89yzn\" data-aut-id=\"itemPrice\">₹ 13,000</span>,\n",
       " <span class=\"_2TVI3\" data-aut-id=\"itemDetails\">2005 - 30000 Km</span>,\n",
       " <span class=\"_2tW1I\" data-aut-id=\"itemTitle\">72,04+748452</span>,\n",
       " <span class=\"tjgMj\" data-aut-id=\"item-location\">Gowda Muniswamy Garden, Bengaluru</span>,\n",
       " <span class=\"zLvFQ\"><span>Today</span></span>,\n",
       " <span>Today</span>,\n",
       " <span class=\"rui-3pJ6W _2LYp_\" data-aut-id=\"\"><i class=\"rui-1XUas rui-NHuvU\" title=\"Favourite\"></i></span>]"
      ]
     },
     "execution_count": 58,
     "metadata": {},
     "output_type": "execute_result"
    }
   ],
   "source": [
    "t.findAll('span')"
   ]
  },
  {
   "cell_type": "code",
   "execution_count": null,
   "metadata": {},
   "outputs": [],
   "source": []
  }
 ],
 "metadata": {
  "kernelspec": {
   "display_name": "Python 3",
   "language": "python",
   "name": "python3"
  },
  "language_info": {
   "codemirror_mode": {
    "name": "ipython",
    "version": 3
   },
   "file_extension": ".py",
   "mimetype": "text/x-python",
   "name": "python",
   "nbconvert_exporter": "python",
   "pygments_lexer": "ipython3",
   "version": "3.6.5"
  }
 },
 "nbformat": 4,
 "nbformat_minor": 2
}
